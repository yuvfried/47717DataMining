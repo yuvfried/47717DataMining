{
 "cells": [
  {
   "cell_type": "code",
   "execution_count": 44,
   "metadata": {},
   "outputs": [],
   "source": [
    "%%capture\n",
    "import numpy as np\n",
    "import pandas as pd\n",
    "import ipywidgets\n",
    "from src.preprocessing import ratings\n",
    "from src.recommend import Recommender\n",
    "import matplotlib.pyplot as plt"
   ]
  },
  {
   "cell_type": "code",
   "execution_count": 2,
   "metadata": {},
   "outputs": [
    {
     "name": "stdout",
     "output_type": "stream",
     "text": [
      "training phase\n",
      "Computing the cosine similarity matrix...\n",
      "Done computing similarity matrix.\n",
      "end of training phase\n"
     ]
    }
   ],
   "source": [
    "print(\"training phase\")\n",
    "recom = Recommender(ratings)\n",
    "recom.fit(0.5)\n",
    "print(\"end of training phase\")"
   ]
  },
  {
   "cell_type": "markdown",
   "metadata": {},
   "source": [
    "How many books The users in the test data have read? \\\n",
    "We'll try to evaluate only those who have read more than 2 books. \\\n",
    "Here is a the answer for the above question by quantiles:"
   ]
  },
  {
   "cell_type": "code",
   "execution_count": 85,
   "metadata": {},
   "outputs": [
    {
     "data": {
      "text/html": [
       "<div>\n",
       "<style scoped>\n",
       "    .dataframe tbody tr th:only-of-type {\n",
       "        vertical-align: middle;\n",
       "    }\n",
       "\n",
       "    .dataframe tbody tr th {\n",
       "        vertical-align: top;\n",
       "    }\n",
       "\n",
       "    .dataframe thead th {\n",
       "        text-align: right;\n",
       "    }\n",
       "</style>\n",
       "<table border=\"1\" class=\"dataframe\">\n",
       "  <thead>\n",
       "    <tr style=\"text-align: right;\">\n",
       "      <th></th>\n",
       "      <th>num_of_books_read</th>\n",
       "    </tr>\n",
       "    <tr>\n",
       "      <th>q</th>\n",
       "      <th></th>\n",
       "    </tr>\n",
       "  </thead>\n",
       "  <tbody>\n",
       "    <tr>\n",
       "      <th>0.1</th>\n",
       "      <td>1.0</td>\n",
       "    </tr>\n",
       "    <tr>\n",
       "      <th>0.2</th>\n",
       "      <td>1.0</td>\n",
       "    </tr>\n",
       "    <tr>\n",
       "      <th>0.3</th>\n",
       "      <td>1.0</td>\n",
       "    </tr>\n",
       "    <tr>\n",
       "      <th>0.4</th>\n",
       "      <td>1.0</td>\n",
       "    </tr>\n",
       "    <tr>\n",
       "      <th>0.5</th>\n",
       "      <td>1.0</td>\n",
       "    </tr>\n",
       "    <tr>\n",
       "      <th>0.6</th>\n",
       "      <td>2.0</td>\n",
       "    </tr>\n",
       "    <tr>\n",
       "      <th>0.7</th>\n",
       "      <td>2.0</td>\n",
       "    </tr>\n",
       "    <tr>\n",
       "      <th>0.8</th>\n",
       "      <td>4.0</td>\n",
       "    </tr>\n",
       "    <tr>\n",
       "      <th>0.9</th>\n",
       "      <td>9.0</td>\n",
       "    </tr>\n",
       "  </tbody>\n",
       "</table>\n",
       "</div>"
      ],
      "text/plain": [
       "     num_of_books_read\n",
       "q                     \n",
       "0.1                1.0\n",
       "0.2                1.0\n",
       "0.3                1.0\n",
       "0.4                1.0\n",
       "0.5                1.0\n",
       "0.6                2.0\n",
       "0.7                2.0\n",
       "0.8                4.0\n",
       "0.9                9.0"
      ]
     },
     "execution_count": 85,
     "metadata": {},
     "output_type": "execute_result"
    }
   ],
   "source": [
    "quantiles = np.linspace(0.1,0.9,num=9)\n",
    "num_books = np.apply_along_axis(\n",
    "    lambda q: recom.test_df.User.value_counts().quantile(q=q),\n",
    "    axis=0, arr=quantiles)\n",
    "out = pd.DataFrame(num_books, columns=['num_of_books_read'], index=quantiles)\n",
    "out.index.name = \"q\"\n",
    "out"
   ]
  },
  {
   "cell_type": "code",
   "execution_count": 95,
   "metadata": {},
   "outputs": [],
   "source": [
    "test_users = recom.test_df.User.value_counts()[\n",
    "    recom.test_df.User.value_counts() >=2].index.values"
   ]
  },
  {
   "cell_type": "code",
   "execution_count": 101,
   "metadata": {},
   "outputs": [],
   "source": [
    "def eval_user(obj, uid):\n",
    "    try:\n",
    "        return obj.eval_rmse(uid)\n",
    "    except:\n",
    "        return None"
   ]
  },
  {
   "cell_type": "code",
   "execution_count": 152,
   "metadata": {},
   "outputs": [],
   "source": [
    "np.random.seed(770)\n",
    "sample_test_users = np.random.choice(test_users, size=100)\n",
    "\n",
    "errors = np.zeros(100)\n",
    "for i, user in enumerate(sample_test_users):\n",
    "    try:\n",
    "        errors[i] = (recom.eval_rmse(user))\n",
    "    except:\n",
    "        errors[i] = (np.nan)"
   ]
  },
  {
   "cell_type": "code",
   "execution_count": 194,
   "metadata": {},
   "outputs": [
    {
     "data": {
      "image/png": "[encoded data removed]",
      "text/plain": [
       "<Figure size 1008x360 with 1 Axes>"
      ]
     },
     "metadata": {},
     "output_type": "display_data"
    }
   ],
   "source": [
    "plt.figure(figsize=(14,5))\n",
    "plt.hist(errors[~np.isnan(errors)], bins=10, density=True)\n",
    "plt.title('Histogram of RMSE of sampled test users')\n",
    "plt.xlabel(\"RMSE\")\n",
    "plt.ylabel(\"density\")\n",
    "plt.show()"
   ]
  },
  {
   "cell_type": "code",
   "execution_count": 178,
   "metadata": {},
   "outputs": [],
   "source": [
    "data_to_plot = pd.DataFrame(\n",
    "    np.column_stack((\n",
    "        recom.test_df.User.value_counts()[sample_test_users].values[~np.isnan(errors)].astype(np.int),\n",
    "        errors[~np.isnan(errors)]\n",
    "    )),\n",
    "columns=['num_of_books','rmse'], index=sample_test_users[~np.isnan(errors)])"
   ]
  },
  {
   "cell_type": "code",
   "execution_count": 197,
   "metadata": {},
   "outputs": [
    {
     "data": {
      "image/png": "[encoded data removed]",
      "text/plain": [
       "<Figure size 1008x360 with 1 Axes>"
      ]
     },
     "metadata": {},
     "output_type": "display_data"
    }
   ],
   "source": [
    "import seaborn as sns\n",
    "\n",
    "plt.figure(figsize=(14,5))\n",
    "ax = sns.boxplot(x=\"num_of_books\", y=\"rmse\",\n",
    "data=data_to_plot.loc[data_to_plot['num_of_books']<10]).set_title(\n",
    "    \"Sample of Test User's RMSE according to Num of Book They've Read\", size=20)"
   ]
  }
 ],
 "metadata": {
  "kernelspec": {
   "display_name": "Python 3",
   "language": "python",
   "name": "python3"
  },
  "language_info": {
   "codemirror_mode": {
    "name": "ipython",
    "version": 3
   },
   "file_extension": ".py",
   "mimetype": "text/x-python",
   "name": "python",
   "nbconvert_exporter": "python",
   "pygments_lexer": "ipython3",
   "version": "3.6.10"
  }
 },
 "nbformat": 4,
 "nbformat_minor": 4
}
