{
 "cells": [
  {
   "cell_type": "code",
   "execution_count": 1,
   "metadata": {},
   "outputs": [
    {
     "name": "stderr",
     "output_type": "stream",
     "text": [
      "b'Skipping line 6452: expected 8 fields, saw 9\\nSkipping line 43667: expected 8 fields, saw 10\\nSkipping line 51751: expected 8 fields, saw 9\\n'\n",
      "b'Skipping line 92038: expected 8 fields, saw 9\\nSkipping line 104319: expected 8 fields, saw 9\\nSkipping line 121768: expected 8 fields, saw 9\\n'\n",
      "b'Skipping line 144058: expected 8 fields, saw 9\\nSkipping line 150789: expected 8 fields, saw 9\\nSkipping line 157128: expected 8 fields, saw 9\\nSkipping line 180189: expected 8 fields, saw 9\\nSkipping line 185738: expected 8 fields, saw 9\\n'\n",
      "b'Skipping line 209388: expected 8 fields, saw 9\\nSkipping line 220626: expected 8 fields, saw 9\\nSkipping line 227933: expected 8 fields, saw 11\\nSkipping line 228957: expected 8 fields, saw 10\\nSkipping line 245933: expected 8 fields, saw 9\\nSkipping line 251296: expected 8 fields, saw 9\\nSkipping line 259941: expected 8 fields, saw 9\\nSkipping line 261529: expected 8 fields, saw 9\\n'\n",
      "C:\\Users\\yuvalf\\AppData\\Local\\Continuum\\anaconda3\\lib\\site-packages\\ipykernel_launcher.py:4: DtypeWarning: Columns (3) have mixed types.Specify dtype option on import or set low_memory=False.\n",
      "  after removing the cwd from sys.path.\n",
      "b'Skipping line 6452: expected 8 fields, saw 9\\nSkipping line 43667: expected 8 fields, saw 10\\nSkipping line 51751: expected 8 fields, saw 9\\n'\n",
      "b'Skipping line 92038: expected 8 fields, saw 9\\nSkipping line 104319: expected 8 fields, saw 9\\nSkipping line 121768: expected 8 fields, saw 9\\n'\n",
      "b'Skipping line 144058: expected 8 fields, saw 9\\nSkipping line 150789: expected 8 fields, saw 9\\nSkipping line 157128: expected 8 fields, saw 9\\nSkipping line 180189: expected 8 fields, saw 9\\nSkipping line 185738: expected 8 fields, saw 9\\n'\n",
      "b'Skipping line 209388: expected 8 fields, saw 9\\nSkipping line 220626: expected 8 fields, saw 9\\nSkipping line 227933: expected 8 fields, saw 11\\nSkipping line 228957: expected 8 fields, saw 10\\nSkipping line 245933: expected 8 fields, saw 9\\nSkipping line 251296: expected 8 fields, saw 9\\nSkipping line 259941: expected 8 fields, saw 9\\nSkipping line 261529: expected 8 fields, saw 9\\n'\n"
     ]
    }
   ],
   "source": [
    "%%capture\n",
    "import numpy as np\n",
    "import pandas as pd\n",
    "import ipywidgets\n",
    "from src.preprocessing import ratings\n",
    "from src.recommend import Recommender"
   ]
  },
  {
   "cell_type": "code",
   "execution_count": 2,
   "metadata": {},
   "outputs": [
    {
     "name": "stdout",
     "output_type": "stream",
     "text": [
      "training phase\n",
      "Computing the cosine similarity matrix...\n",
      "Done computing similarity matrix.\n",
      "end of training phase\n"
     ]
    }
   ],
   "source": [
    "print(\"training phase\")\n",
    "recom = Recommender(ratings)\n",
    "recom.fit(0.5)\n",
    "print(\"end of training phase\")"
   ]
  },
  {
   "cell_type": "code",
   "execution_count": 3,
   "metadata": {},
   "outputs": [
    {
     "data": {
      "application/vnd.jupyter.widget-view+json": {
       "model_id": "52204ecf4e9144c2a254b39e7699c1bc",
       "version_major": 2,
       "version_minor": 0
      },
      "text/plain": [
       "interactive(children=(Combobox(value='', description='Book Title', layout=Layout(width='500px'), options=('Hom…"
      ]
     },
     "metadata": {},
     "output_type": "display_data"
    }
   ],
   "source": [
    "d = {}\n",
    "def add_book(d, book, rating):\n",
    "    if not any(ratings['Book-Title'] == book):\n",
    "        print('sorry the book you chose is not in our data base \\n' +\n",
    "              'please enter a title of another book you would like to rate')\n",
    "    else:\n",
    "        d[book] = rating\n",
    "    \n",
    "    print(d)    \n",
    "    return d\n",
    "    \n",
    "    \n",
    "    \n",
    "\n",
    "ipywidgets.interactive(add_book, {'manual':True},\n",
    "                       d = ipywidgets.fixed(d),\n",
    "                       book = ipywidgets.Combobox(\n",
    "                           placeholder='Type Here or Choose from Sample',\n",
    "                           options=list(np.random.choice(ratings['Book-Title'].unique(), size=10)),\n",
    "                           layout={'width': '500px'},\n",
    "                           description='Book Title'),\n",
    "                       rating = ipywidgets.IntSlider(min=1,max=10, description=\"Rating\"))"
   ]
  },
  {
   "cell_type": "code",
   "execution_count": 4,
   "metadata": {},
   "outputs": [
    {
     "name": "stdout",
     "output_type": "stream",
     "text": [
      "You should better read one of these books!\n",
      "\n"
     ]
    },
    {
     "data": {
      "text/plain": [
       "['Storm Surge: A Quin St. James and Mike McCleary Mystery',\n",
       " 'The Contest',\n",
       " 'Der Kleine Hobbit',\n",
       " 'Im Angesicht des Feindes.',\n",
       " 'Herr Der Fliegen (Fiction, Poetry and Drama)',\n",
       " 'A Little Magic',\n",
       " \"Eeyore, You're the Best (Disney's Pooh)\",\n",
       " '101 Dalmatians',\n",
       " 'Mama, Do You Love Me?',\n",
       " 'Evidence That Demands A Verdict : Vol. 1 (Evidence That Demands a Verdict)',\n",
       " 'Salt Fish Girl',\n",
       " 'Without Conscience: The Disturbing World of the Psychopaths Among Us',\n",
       " 'Dark Forces: New Stories of Suspense and Supernatural Horror',\n",
       " 'Blowout',\n",
       " 'The Tail of the Tip-Off']"
      ]
     },
     "execution_count": 4,
     "metadata": {},
     "output_type": "execute_result"
    }
   ],
   "source": [
    "print(\"You should better read one of these books!\\n\")\n",
    "recom.recommend(d)"
   ]
  }
 ],
 "metadata": {
  "kernelspec": {
   "display_name": "Python 3",
   "language": "python",
   "name": "python3"
  },
  "language_info": {
   "codemirror_mode": {
    "name": "ipython",
    "version": 3
   },
   "file_extension": ".py",
   "mimetype": "text/x-python",
   "name": "python",
   "nbconvert_exporter": "python",
   "pygments_lexer": "ipython3",
   "version": "3.6.10"
  }
 },
 "nbformat": 4,
 "nbformat_minor": 4
}
