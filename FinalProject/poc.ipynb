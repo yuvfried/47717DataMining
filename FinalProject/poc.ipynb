{
 "cells": [
  {
   "cell_type": "code",
   "execution_count": 83,
   "metadata": {},
   "outputs": [],
   "source": [
    "import numpy as np\n",
    "import pandas as pd\n",
    "from surprise import Dataset, Reader\n",
    "from scipy.spatial import distance\n",
    "from sklearn.metrics.pairwise import cosine_similarity"
   ]
  },
  {
   "cell_type": "code",
   "execution_count": 2,
   "metadata": {},
   "outputs": [
    {
     "name": "stderr",
     "output_type": "stream",
     "text": [
      "b'Skipping line 6452: expected 8 fields, saw 9\\nSkipping line 43667: expected 8 fields, saw 10\\nSkipping line 51751: expected 8 fields, saw 9\\n'\n",
      "b'Skipping line 92038: expected 8 fields, saw 9\\nSkipping line 104319: expected 8 fields, saw 9\\nSkipping line 121768: expected 8 fields, saw 9\\n'\n",
      "b'Skipping line 144058: expected 8 fields, saw 9\\nSkipping line 150789: expected 8 fields, saw 9\\nSkipping line 157128: expected 8 fields, saw 9\\nSkipping line 180189: expected 8 fields, saw 9\\nSkipping line 185738: expected 8 fields, saw 9\\n'\n",
      "b'Skipping line 209388: expected 8 fields, saw 9\\nSkipping line 220626: expected 8 fields, saw 9\\nSkipping line 227933: expected 8 fields, saw 11\\nSkipping line 228957: expected 8 fields, saw 10\\nSkipping line 245933: expected 8 fields, saw 9\\nSkipping line 251296: expected 8 fields, saw 9\\nSkipping line 259941: expected 8 fields, saw 9\\nSkipping line 261529: expected 8 fields, saw 9\\n'\n",
      "C:\\Users\\yuvalf\\AppData\\Local\\Continuum\\anaconda3\\lib\\site-packages\\IPython\\core\\interactiveshell.py:3063: DtypeWarning: Columns (3) have mixed types.Specify dtype option on import or set low_memory=False.\n",
      "  interactivity=interactivity, compiler=compiler, result=result)\n"
     ]
    }
   ],
   "source": [
    "ratings = pd.read_csv(r'BX-CSV-Dump/BX-Book-Ratings.csv', delimiter=';', error_bad_lines=False, encoding='latin-1')\n",
    "books = pd.read_csv(r'BX-CSV-Dump/BX-Books.csv', delimiter=';', error_bad_lines=False, encoding='latin-1')\n",
    "users = pd.read_csv(r'BX-CSV-Dump/BX-Users.csv', delimiter=';', error_bad_lines=False, encoding='latin-1')\n",
    "\n",
    "ratings = ratings.loc[ratings['ISBN'].isin(books['ISBN'])]\n",
    "ratings = ratings.loc[ratings['Book-Rating']!=0]\n",
    "ratings = ratings.rename(columns={\"User-ID\":\"User\",\"Book-Rating\":\"Rating\"})\n",
    "\n",
    "# drop books which have 13-char ISBN\n",
    "ratings = ratings.loc[ratings['ISBN'].apply(len)==10]\n",
    "\n",
    "# we want to recommand about book title and not ISBN, for convinience of predicting new user\n",
    "ratings.ISBN = ratings.ISBN.astype(str)\n",
    "books.ISBN = books.ISBN.astype(str)\n",
    "ratings = ratings.merge(books[['ISBN','Book-Title']], on='ISBN',how='inner')"
   ]
  },
  {
   "cell_type": "code",
   "execution_count": 3,
   "metadata": {},
   "outputs": [
    {
     "data": {
      "text/plain": [
       "<matplotlib.axes._subplots.AxesSubplot at 0x25955bc4c88>"
      ]
     },
     "execution_count": 3,
     "metadata": {},
     "output_type": "execute_result"
    },
    {
     "data": {
      "image/png": "[encoded data removed]",
      "text/plain": [
       "<Figure size 432x288 with 1 Axes>"
      ]
     },
     "metadata": {
      "needs_background": "light"
     },
     "output_type": "display_data"
    }
   ],
   "source": [
    "ratings['Rating'].value_counts().sort_index().plot(kind=\"bar\")"
   ]
  },
  {
   "cell_type": "code",
   "execution_count": 4,
   "metadata": {},
   "outputs": [],
   "source": [
    "poc_df = ratings.sample(n=100000,random_state=123)"
   ]
  },
  {
   "cell_type": "code",
   "execution_count": 158,
   "metadata": {},
   "outputs": [
    {
     "data": {
      "text/plain": [
       "<matplotlib.axes._subplots.AxesSubplot at 0x2063cb2d9e8>"
      ]
     },
     "execution_count": 158,
     "metadata": {},
     "output_type": "execute_result"
    },
    {
     "data": {
      "image/png": "[encoded data removed]",
      "text/plain": [
       "<Figure size 432x288 with 1 Axes>"
      ]
     },
     "metadata": {
      "needs_background": "light"
     },
     "output_type": "display_data"
    }
   ],
   "source": [
    "poc_df['Rating'].value_counts().sort_index().plot(kind=\"bar\")"
   ]
  },
  {
   "cell_type": "code",
   "execution_count": 5,
   "metadata": {},
   "outputs": [],
   "source": [
    "from surprise import KNNWithMeans, KNNBasic\n",
    "\n",
    "# To use user-based cosine similarity\n",
    "sim_options = {\n",
    "    \"name\": \"cosine\",\n",
    "    \"user_based\": True,  # Compute similarities between users\n",
    "}\n",
    "\n",
    "algo = KNNBasic(sim_options=sim_options, k=10)"
   ]
  },
  {
   "cell_type": "code",
   "execution_count": 6,
   "metadata": {},
   "outputs": [
    {
     "name": "stdout",
     "output_type": "stream",
     "text": [
      "Computing the cosine similarity matrix...\n",
      "Done computing similarity matrix.\n"
     ]
    },
    {
     "data": {
      "text/plain": [
       "<surprise.prediction_algorithms.knns.KNNBasic at 0x25955d17940>"
      ]
     },
     "execution_count": 6,
     "metadata": {},
     "output_type": "execute_result"
    }
   ],
   "source": [
    "reader = Reader(rating_scale=(1, 10))\n",
    "data = Dataset.load_from_df(poc_df[[\"User\", \"Book-Title\", \"Rating\"]], reader)\n",
    "\n",
    "training = data.build_full_trainset()\n",
    "\n",
    "algo.fit(training)\n",
    "\n",
    "# Computing the cosine similarity matrix...\n",
    "# Done computing similarity matrix.\n",
    "# <surprise.prediction_algorithms.knns.KNNWithMeans object at 0x7f04fec56898>\n",
    "\n"
   ]
  },
  {
   "cell_type": "code",
   "execution_count": 7,
   "metadata": {},
   "outputs": [],
   "source": [
    "f = lambda book: algo.predict(uid=np.random.choice(poc_df['User']),iid=book).est\n",
    "res = pd.Series(poc_df['Book-Title'].unique()).apply(f)"
   ]
  },
  {
   "cell_type": "code",
   "execution_count": 12,
   "metadata": {},
   "outputs": [
    {
     "data": {
      "text/html": [
       "<div>\n",
       "<style scoped>\n",
       "    .dataframe tbody tr th:only-of-type {\n",
       "        vertical-align: middle;\n",
       "    }\n",
       "\n",
       "    .dataframe tbody tr th {\n",
       "        vertical-align: top;\n",
       "    }\n",
       "\n",
       "    .dataframe thead th {\n",
       "        text-align: right;\n",
       "    }\n",
       "</style>\n",
       "<table border=\"1\" class=\"dataframe\">\n",
       "  <thead>\n",
       "    <tr style=\"text-align: right;\">\n",
       "      <th></th>\n",
       "      <th>title</th>\n",
       "      <th>score</th>\n",
       "    </tr>\n",
       "  </thead>\n",
       "  <tbody>\n",
       "    <tr>\n",
       "      <th>0</th>\n",
       "      <td>Affairs of State</td>\n",
       "      <td>7.63385</td>\n",
       "    </tr>\n",
       "    <tr>\n",
       "      <th>1</th>\n",
       "      <td>Dark Between the Stars</td>\n",
       "      <td>7.63385</td>\n",
       "    </tr>\n",
       "    <tr>\n",
       "      <th>2</th>\n",
       "      <td>The Ballad of Frankie Silver</td>\n",
       "      <td>7.63385</td>\n",
       "    </tr>\n",
       "    <tr>\n",
       "      <th>3</th>\n",
       "      <td>Patton: The Man Behind the Legend 1885 1945</td>\n",
       "      <td>7.63385</td>\n",
       "    </tr>\n",
       "    <tr>\n",
       "      <th>4</th>\n",
       "      <td>The Hobbit : The Enchanting Prelude to The Lor...</td>\n",
       "      <td>7.63385</td>\n",
       "    </tr>\n",
       "    <tr>\n",
       "      <th>...</th>\n",
       "      <td>...</td>\n",
       "      <td>...</td>\n",
       "    </tr>\n",
       "    <tr>\n",
       "      <th>53035</th>\n",
       "      <td>Ki Te Ao: New Stories</td>\n",
       "      <td>7.63385</td>\n",
       "    </tr>\n",
       "    <tr>\n",
       "      <th>53036</th>\n",
       "      <td>The Rugrats Movie Storybook</td>\n",
       "      <td>10.00000</td>\n",
       "    </tr>\n",
       "    <tr>\n",
       "      <th>53037</th>\n",
       "      <td>Glare Ice: A Claire Watkins Mystery (Claire Wa...</td>\n",
       "      <td>9.00000</td>\n",
       "    </tr>\n",
       "    <tr>\n",
       "      <th>53038</th>\n",
       "      <td>The Immortal Highlander</td>\n",
       "      <td>7.63385</td>\n",
       "    </tr>\n",
       "    <tr>\n",
       "      <th>53039</th>\n",
       "      <td>Beyond the Threshold of Death</td>\n",
       "      <td>7.63385</td>\n",
       "    </tr>\n",
       "  </tbody>\n",
       "</table>\n",
       "<p>53040 rows × 2 columns</p>\n",
       "</div>"
      ],
      "text/plain": [
       "                                                   title     score\n",
       "0                                       Affairs of State   7.63385\n",
       "1                                 Dark Between the Stars   7.63385\n",
       "2                           The Ballad of Frankie Silver   7.63385\n",
       "3            Patton: The Man Behind the Legend 1885 1945   7.63385\n",
       "4      The Hobbit : The Enchanting Prelude to The Lor...   7.63385\n",
       "...                                                  ...       ...\n",
       "53035                              Ki Te Ao: New Stories   7.63385\n",
       "53036                        The Rugrats Movie Storybook  10.00000\n",
       "53037  Glare Ice: A Claire Watkins Mystery (Claire Wa...   9.00000\n",
       "53038                            The Immortal Highlander   7.63385\n",
       "53039                      Beyond the Threshold of Death   7.63385\n",
       "\n",
       "[53040 rows x 2 columns]"
      ]
     },
     "execution_count": 12,
     "metadata": {},
     "output_type": "execute_result"
    }
   ],
   "source": [
    "df_res = pd.DataFrame(np.column_stack((poc_df['Book-Title'].unique(),res)), columns=[\"title\",\"score\"])\n",
    "df_res['score'] = df_res['score'].astype(float)\n",
    "df_res"
   ]
  },
  {
   "cell_type": "code",
   "execution_count": 28,
   "metadata": {},
   "outputs": [],
   "source": [
    "# we want to get the new user and compute dists\n",
    "# therfore we need his books\n",
    "books = np.random.choice(poc_df['Book-Title'],size=np.random.randint(10))\n",
    "rates = np.random.choice(np.arange(1,11),size=len(books),p=np.arange(1,11)/np.sum(np.arange(1,11)))\n",
    "# symmulation of what we get from Eitan's function\n",
    "new_data = dict(zip(books,rates))"
   ]
  },
  {
   "cell_type": "code",
   "execution_count": 29,
   "metadata": {},
   "outputs": [
    {
     "data": {
      "text/plain": [
       "{'Enthusiasm: A Chapter in the History of Religion : With Special Reference to the XVII and XVIII Centuries': 8,\n",
       " 'Tara Road': 4,\n",
       " 'Daughter of God': 2,\n",
       " 'Basket Case': 8,\n",
       " 'The Awakening : A Vampire Huntress Legend (Vampire Huntress Legend)': 9,\n",
       " \"Murder on a Girls' Night Out: A Southern Sisters Mystery\": 10,\n",
       " 'Star fire': 9,\n",
       " 'Deadeye Dick': 7}"
      ]
     },
     "execution_count": 29,
     "metadata": {},
     "output_type": "execute_result"
    }
   ],
   "source": [
    "new_data"
   ]
  },
  {
   "cell_type": "code",
   "execution_count": 266,
   "metadata": {},
   "outputs": [],
   "source": [
    "# reduce df to only relevant books for that new user\n",
    "# poc_df.loc[poc_df['Book-Title'].isin(books)]"
   ]
  },
  {
   "cell_type": "code",
   "execution_count": 30,
   "metadata": {},
   "outputs": [],
   "source": [
    "# according to vidhya tutorial NaN --> 0\n",
    "user_item = pd.pivot(poc_df.loc[poc_df['Book-Title'].isin(books)],index='User',columns='Book-Title',values='Rating')\n",
    "# user_item = user_item.fillna(0)"
   ]
  },
  {
   "cell_type": "code",
   "execution_count": 69,
   "metadata": {},
   "outputs": [
    {
     "data": {
      "text/html": [
       "<div>\n",
       "<style scoped>\n",
       "    .dataframe tbody tr th:only-of-type {\n",
       "        vertical-align: middle;\n",
       "    }\n",
       "\n",
       "    .dataframe tbody tr th {\n",
       "        vertical-align: top;\n",
       "    }\n",
       "\n",
       "    .dataframe thead th {\n",
       "        text-align: right;\n",
       "    }\n",
       "</style>\n",
       "<table border=\"1\" class=\"dataframe\">\n",
       "  <thead>\n",
       "    <tr style=\"text-align: right;\">\n",
       "      <th>Book-Title</th>\n",
       "      <th>Basket Case</th>\n",
       "      <th>Daughter of God</th>\n",
       "      <th>Deadeye Dick</th>\n",
       "      <th>Enthusiasm: A Chapter in the History of Religion : With Special Reference to the XVII and XVIII Centuries</th>\n",
       "      <th>Murder on a Girls' Night Out: A Southern Sisters Mystery</th>\n",
       "      <th>Star fire</th>\n",
       "      <th>Tara Road</th>\n",
       "      <th>The Awakening : A Vampire Huntress Legend (Vampire Huntress Legend)</th>\n",
       "    </tr>\n",
       "    <tr>\n",
       "      <th>User</th>\n",
       "      <th></th>\n",
       "      <th></th>\n",
       "      <th></th>\n",
       "      <th></th>\n",
       "      <th></th>\n",
       "      <th></th>\n",
       "      <th></th>\n",
       "      <th></th>\n",
       "    </tr>\n",
       "  </thead>\n",
       "  <tbody>\n",
       "    <tr>\n",
       "      <th>15692</th>\n",
       "      <td>0.0</td>\n",
       "      <td>0.0</td>\n",
       "      <td>0.0</td>\n",
       "      <td>0.0</td>\n",
       "      <td>0.0</td>\n",
       "      <td>0.0</td>\n",
       "      <td>4.5</td>\n",
       "      <td>0.0</td>\n",
       "    </tr>\n",
       "    <tr>\n",
       "      <th>21188</th>\n",
       "      <td>0.0</td>\n",
       "      <td>0.0</td>\n",
       "      <td>0.0</td>\n",
       "      <td>0.0</td>\n",
       "      <td>0.0</td>\n",
       "      <td>0.0</td>\n",
       "      <td>5.5</td>\n",
       "      <td>0.0</td>\n",
       "    </tr>\n",
       "    <tr>\n",
       "      <th>22095</th>\n",
       "      <td>0.0</td>\n",
       "      <td>0.0</td>\n",
       "      <td>0.0</td>\n",
       "      <td>0.0</td>\n",
       "      <td>0.0</td>\n",
       "      <td>0.0</td>\n",
       "      <td>0.5</td>\n",
       "      <td>0.0</td>\n",
       "    </tr>\n",
       "    <tr>\n",
       "      <th>24921</th>\n",
       "      <td>0.0</td>\n",
       "      <td>0.0</td>\n",
       "      <td>0.0</td>\n",
       "      <td>0.0</td>\n",
       "      <td>0.0</td>\n",
       "      <td>0.0</td>\n",
       "      <td>3.5</td>\n",
       "      <td>0.0</td>\n",
       "    </tr>\n",
       "    <tr>\n",
       "      <th>29907</th>\n",
       "      <td>0.0</td>\n",
       "      <td>0.0</td>\n",
       "      <td>0.0</td>\n",
       "      <td>0.0</td>\n",
       "      <td>0.0</td>\n",
       "      <td>0.0</td>\n",
       "      <td>2.5</td>\n",
       "      <td>0.0</td>\n",
       "    </tr>\n",
       "    <tr>\n",
       "      <th>...</th>\n",
       "      <td>...</td>\n",
       "      <td>...</td>\n",
       "      <td>...</td>\n",
       "      <td>...</td>\n",
       "      <td>...</td>\n",
       "      <td>...</td>\n",
       "      <td>...</td>\n",
       "      <td>...</td>\n",
       "    </tr>\n",
       "    <tr>\n",
       "      <th>259542</th>\n",
       "      <td>2.5</td>\n",
       "      <td>0.0</td>\n",
       "      <td>0.0</td>\n",
       "      <td>0.0</td>\n",
       "      <td>0.0</td>\n",
       "      <td>0.0</td>\n",
       "      <td>0.0</td>\n",
       "      <td>0.0</td>\n",
       "    </tr>\n",
       "    <tr>\n",
       "      <th>265889</th>\n",
       "      <td>0.0</td>\n",
       "      <td>0.0</td>\n",
       "      <td>0.0</td>\n",
       "      <td>0.0</td>\n",
       "      <td>3.5</td>\n",
       "      <td>0.0</td>\n",
       "      <td>0.0</td>\n",
       "      <td>0.0</td>\n",
       "    </tr>\n",
       "    <tr>\n",
       "      <th>274301</th>\n",
       "      <td>0.0</td>\n",
       "      <td>0.0</td>\n",
       "      <td>0.0</td>\n",
       "      <td>0.0</td>\n",
       "      <td>0.0</td>\n",
       "      <td>0.0</td>\n",
       "      <td>5.5</td>\n",
       "      <td>0.0</td>\n",
       "    </tr>\n",
       "    <tr>\n",
       "      <th>276688</th>\n",
       "      <td>2.5</td>\n",
       "      <td>0.0</td>\n",
       "      <td>0.0</td>\n",
       "      <td>0.0</td>\n",
       "      <td>0.0</td>\n",
       "      <td>0.0</td>\n",
       "      <td>0.0</td>\n",
       "      <td>0.0</td>\n",
       "    </tr>\n",
       "    <tr>\n",
       "      <th>new</th>\n",
       "      <td>3.5</td>\n",
       "      <td>-2.5</td>\n",
       "      <td>2.5</td>\n",
       "      <td>3.5</td>\n",
       "      <td>5.5</td>\n",
       "      <td>4.5</td>\n",
       "      <td>-0.5</td>\n",
       "      <td>4.5</td>\n",
       "    </tr>\n",
       "  </tbody>\n",
       "</table>\n",
       "<p>67 rows × 8 columns</p>\n",
       "</div>"
      ],
      "text/plain": [
       "Book-Title  Basket Case  Daughter of God  Deadeye Dick  \\\n",
       "User                                                     \n",
       "15692               0.0              0.0           0.0   \n",
       "21188               0.0              0.0           0.0   \n",
       "22095               0.0              0.0           0.0   \n",
       "24921               0.0              0.0           0.0   \n",
       "29907               0.0              0.0           0.0   \n",
       "...                 ...              ...           ...   \n",
       "259542              2.5              0.0           0.0   \n",
       "265889              0.0              0.0           0.0   \n",
       "274301              0.0              0.0           0.0   \n",
       "276688              2.5              0.0           0.0   \n",
       "new                 3.5             -2.5           2.5   \n",
       "\n",
       "Book-Title  Enthusiasm: A Chapter in the History of Religion : With Special Reference to the XVII and XVIII Centuries  \\\n",
       "User                                                                                                                    \n",
       "15692                                                     0.0                                                           \n",
       "21188                                                     0.0                                                           \n",
       "22095                                                     0.0                                                           \n",
       "24921                                                     0.0                                                           \n",
       "29907                                                     0.0                                                           \n",
       "...                                                       ...                                                           \n",
       "259542                                                    0.0                                                           \n",
       "265889                                                    0.0                                                           \n",
       "274301                                                    0.0                                                           \n",
       "276688                                                    0.0                                                           \n",
       "new                                                       3.5                                                           \n",
       "\n",
       "Book-Title  Murder on a Girls' Night Out: A Southern Sisters Mystery  \\\n",
       "User                                                                   \n",
       "15692                                                     0.0          \n",
       "21188                                                     0.0          \n",
       "22095                                                     0.0          \n",
       "24921                                                     0.0          \n",
       "29907                                                     0.0          \n",
       "...                                                       ...          \n",
       "259542                                                    0.0          \n",
       "265889                                                    3.5          \n",
       "274301                                                    0.0          \n",
       "276688                                                    0.0          \n",
       "new                                                       5.5          \n",
       "\n",
       "Book-Title  Star fire  Tara Road  \\\n",
       "User                               \n",
       "15692             0.0        4.5   \n",
       "21188             0.0        5.5   \n",
       "22095             0.0        0.5   \n",
       "24921             0.0        3.5   \n",
       "29907             0.0        2.5   \n",
       "...               ...        ...   \n",
       "259542            0.0        0.0   \n",
       "265889            0.0        0.0   \n",
       "274301            0.0        5.5   \n",
       "276688            0.0        0.0   \n",
       "new               4.5       -0.5   \n",
       "\n",
       "Book-Title  The Awakening : A Vampire Huntress Legend (Vampire Huntress Legend)  \n",
       "User                                                                             \n",
       "15692                                                     0.0                    \n",
       "21188                                                     0.0                    \n",
       "22095                                                     0.0                    \n",
       "24921                                                     0.0                    \n",
       "29907                                                     0.0                    \n",
       "...                                                       ...                    \n",
       "259542                                                    0.0                    \n",
       "265889                                                    0.0                    \n",
       "274301                                                    0.0                    \n",
       "276688                                                    0.0                    \n",
       "new                                                       4.5                    \n",
       "\n",
       "[67 rows x 8 columns]"
      ]
     },
     "execution_count": 69,
     "metadata": {},
     "output_type": "execute_result"
    }
   ],
   "source": [
    "merged = user_item.append(pd.Series(new_data,name=\"new\")).apply(lambda x: x-4.5).fillna(0)\n",
    "merged"
   ]
  },
  {
   "cell_type": "code",
   "execution_count": 88,
   "metadata": {},
   "outputs": [
    {
     "data": {
      "text/plain": [
       "array([-0.04811252, -0.04811252, -0.04811252, -0.04811252, -0.04811252,\n",
       "       -0.04811252,  0.33678766,  0.33678766,  0.24056261,  0.33678766,\n",
       "        0.24056261, -0.04811252,  0.24056261, -0.04811252,  0.24056261,\n",
       "       -0.04811252, -0.04811252, -0.04811252,  0.33678766, -0.04811252,\n",
       "        0.4330127 , -0.04811252, -0.04811252,  0.52923775, -0.04811252,\n",
       "       -0.24056261, -0.04811252, -0.04811252,  0.33678766, -0.04811252,\n",
       "       -0.04811252, -0.33678766,  0.33678766,  0.24056261, -0.04811252,\n",
       "        0.33678766, -0.04811252, -0.04811252,  0.52923775, -0.04811252,\n",
       "       -0.04811252, -0.04811252,  0.33678766,  0.33678766,  0.33678766,\n",
       "       -0.24056261,  0.33678766,  0.33678766, -0.04811252, -0.04811252,\n",
       "       -0.04811252, -0.24056261,  0.33678766,  0.33678766, -0.04811252,\n",
       "       -0.04811252,  0.33678766, -0.4330127 , -0.04811252,  0.24056261,\n",
       "       -0.24056261, -0.04811252,  0.33678766,  0.52923775, -0.04811252,\n",
       "        0.33678766])"
      ]
     },
     "execution_count": 88,
     "metadata": {},
     "output_type": "execute_result"
    }
   ],
   "source": [
    "# distance.cosine(merged.loc[276688].fillna(0), merged.loc['new'])\n",
    "vf = np.vectorize(lambda user: 1-distance.cosine(merged.loc[user], merged.loc['new']))\n",
    "user_itemvf(merged.index.values[:-1])"
   ]
  },
  {
   "cell_type": "code",
   "execution_count": 84,
   "metadata": {},
   "outputs": [
    {
     "data": {
      "text/plain": [
       "array([[ 1.        ,  1.        ,  1.        , ...,  1.        ,\n",
       "         0.        , -0.04811252],\n",
       "       [ 1.        ,  1.        ,  1.        , ...,  1.        ,\n",
       "         0.        , -0.04811252],\n",
       "       [ 1.        ,  1.        ,  1.        , ...,  1.        ,\n",
       "         0.        , -0.04811252],\n",
       "       ...,\n",
       "       [ 1.        ,  1.        ,  1.        , ...,  1.        ,\n",
       "         0.        , -0.04811252],\n",
       "       [ 0.        ,  0.        ,  0.        , ...,  0.        ,\n",
       "         1.        ,  0.33678766],\n",
       "       [-0.04811252, -0.04811252, -0.04811252, ..., -0.04811252,\n",
       "         0.33678766,  1.        ]])"
      ]
     },
     "execution_count": 84,
     "metadata": {},
     "output_type": "execute_result"
    }
   ],
   "source": [
    "cosine_similarity(merged)"
   ]
  },
  {
   "cell_type": "code",
   "execution_count": 290,
   "metadata": {},
   "outputs": [],
   "source": [
    "# def get_user_recs():\n",
    "#     recoms_list = {}\n",
    "#     #getting 1st recomendation\n",
    "#     title = input('please enter a title of a book you would like to rate:  ')\n",
    "#     while not(any(ratings['Book-Title'] == title)):\n",
    "#          title = input('sorry the book you chose is not in our data base \\n please enter a title of another book you would like to rate')\n",
    "#     rating = input('please rate the book you entered:  ')\n",
    "#     recoms_list[title] = rating\n",
    "#     # getting more recomendations\n",
    "#     while len(recoms_list) <= 10:\n",
    "#         title = input('please enter a title of a book you would like to rate: \\n or to continue type \"stop\" :')\n",
    "#         #if we have a stop\n",
    "#         if title == 'stop':\n",
    "#             return(recoms_list)\n",
    "#         else:\n",
    "#             while not(any(ratings['Book-Title'] == title)):\n",
    "#                 title = input('sorry the book you chose is not in our data base \\n please enter a title of another book you would like to rate')\n",
    "#             rating = input('please rate the book you entered:  ')\n",
    "#             recoms_list[title] = rating\n",
    "#     print(\"thanks, you gave us anough books to work with\")\n",
    "#     return(recoms_list)"
   ]
  }
 ],
 "metadata": {
  "kernelspec": {
   "display_name": "Python 3",
   "language": "python",
   "name": "python3"
  },
  "language_info": {
   "codemirror_mode": {
    "name": "ipython",
    "version": 3
   },
   "file_extension": ".py",
   "mimetype": "text/x-python",
   "name": "python",
   "nbconvert_exporter": "python",
   "pygments_lexer": "ipython3",
   "version": "3.6.10"
  }
 },
 "nbformat": 4,
 "nbformat_minor": 4
}
