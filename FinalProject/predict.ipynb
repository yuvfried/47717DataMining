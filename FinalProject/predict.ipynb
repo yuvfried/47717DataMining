{
 "cells": [
  {
   "cell_type": "code",
   "execution_count": 1,
   "metadata": {},
   "outputs": [],
   "source": [
    "import numpy as np\n",
    "import pandas as pd\n",
    "from surprise import Dataset, Reader\n",
    "from scipy.spatial import distance"
   ]
  },
  {
   "cell_type": "code",
   "execution_count": 2,
   "metadata": {},
   "outputs": [],
   "source": [
    "# input:\n",
    "# new_data: dict of {book:rating,...}\n",
    "# data: what was 'poc_df' -- the training data with rows like: user-booktitle-rating\n",
    "# model: the surprise library object after training (what was 'algo')\n",
    "\n",
    "# output: predictions of book which would be highest rated by the new user\n",
    "# output type \n",
    "def predict(new_data, data, model):\n",
    "    user_item = pd.pivot(\n",
    "        data.loc[data['Book-Title'].isin(books)],\n",
    "        index='User',columns='Book-Title',values='Rating')\n",
    "#     scaling in order to fillna 0\n",
    "    merged = user_item.append(pd.Series(new_data,name=\"new\")).apply(lambda x: x-4.5).fillna(0)\n",
    "#     compute cosine similarity\n",
    "    vf = np.vectorize(lambda user: 1-distance.cosine(merged.loc[user], merged.loc['new']))\n",
    "    sims = pd.Series(vf(merged.index.values[:-1]),index=user_item.index)\n",
    "    get_prediction = lambda b: model.predict(uid=sims.index[sims.argmax()],iid=b).est\n",
    "    preds = pd.Series(poc_df['Book-Title'].unique()).apply(get_prediction)\n",
    "    df_res = pd.DataFrame(\n",
    "        np.column_stack((poc_df['Book-Title'].unique(),res)),\n",
    "        columns=[\"title\",\"score\"])\n",
    "    # find largest\n",
    "    df_res['score'] = df_res['score'].astype(float)\n",
    "    recoms = df_res.nlargest(15,'score')\n",
    "#   commands for output in the desired form (dict like)\n",
    "    return dict(zip(recoms.title.to_list(),recoms.score.to_list()))\n",
    "    \n"
   ]
  },
  {
   "cell_type": "code",
   "execution_count": null,
   "metadata": {},
   "outputs": [],
   "source": []
  }
 ],
 "metadata": {
  "kernelspec": {
   "display_name": "Python 3",
   "language": "python",
   "name": "python3"
  },
  "language_info": {
   "codemirror_mode": {
    "name": "ipython",
    "version": 3
   },
   "file_extension": ".py",
   "mimetype": "text/x-python",
   "name": "python",
   "nbconvert_exporter": "python",
   "pygments_lexer": "ipython3",
   "version": "3.6.10"
  }
 },
 "nbformat": 4,
 "nbformat_minor": 4
}
